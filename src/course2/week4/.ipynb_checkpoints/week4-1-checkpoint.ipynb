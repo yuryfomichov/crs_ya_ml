{
 "cells": [
  {
   "cell_type": "code",
   "execution_count": 63,
   "metadata": {},
   "outputs": [],
   "source": [
    "import pandas as pd\n",
    "import numpy as np\n",
    "import matplotlib\n",
    "from matplotlib import pyplot as plt\n",
    "matplotlib.style.use('ggplot')\n",
    "%matplotlib inline\n",
    "import sklearn.datasets as datasets\n",
    "import sklearn.cross_validation as cross_validation\n",
    "from sklearn.model_selection import cross_val_score\n",
    "from sklearn import tree\n",
    "import sklearn.ensemble as ensemble"
   ]
  },
  {
   "cell_type": "code",
   "execution_count": 49,
   "metadata": {},
   "outputs": [
    {
     "name": "stdout",
     "output_type": "stream",
     "text": [
      "(1797, 64)\n",
      "(1797,)\n"
     ]
    }
   ],
   "source": [
    "dataset = datasets.load_digits()\n",
    "print(dataset.data.shape)\n",
    "print(dataset.target.shape)\n"
   ]
  },
  {
   "cell_type": "code",
   "execution_count": 50,
   "metadata": {},
   "outputs": [],
   "source": [
    "data = pd.DataFrame(data=dataset.data)\n",
    "X = dataset.data\n",
    "y = dataset.target"
   ]
  },
  {
   "cell_type": "code",
   "execution_count": 64,
   "metadata": {},
   "outputs": [
    {
     "name": "stdout",
     "output_type": "stream",
     "text": [
      "0.834240841536\n"
     ]
    }
   ],
   "source": [
    "classifier = tree.DecisionTreeClassifier()\n",
    "cv_score = cross_val_score(classifier, X, y, cv  = 10).mean()\n",
    "print(cv_score)"
   ]
  },
  {
   "cell_type": "code",
   "execution_count": 82,
   "metadata": {},
   "outputs": [
    {
     "name": "stdout",
     "output_type": "stream",
     "text": [
      "0.921549187252\n"
     ]
    }
   ],
   "source": [
    "classifier = ensemble.BaggingClassifier(base_estimator  = tree.DecisionTreeClassifier(), n_estimators = 100)\n",
    "cv_score = cross_val_score(classifier, X, y, cv  = 10).mean()\n",
    "print(cv_score)"
   ]
  },
  {
   "cell_type": "code",
   "execution_count": 83,
   "metadata": {},
   "outputs": [
    {
     "name": "stdout",
     "output_type": "stream",
     "text": [
      "0.935514298805\n"
     ]
    }
   ],
   "source": [
    "classifier = ensemble.BaggingClassifier(base_estimator  = tree.DecisionTreeClassifier(), n_estimators = 100, max_features = 0.125)\n",
    "cv_score = cross_val_score(classifier, X, y, cv  = 10).mean()\n",
    "print(cv_score)"
   ]
  },
  {
   "cell_type": "code",
   "execution_count": 89,
   "metadata": {},
   "outputs": [
    {
     "name": "stdout",
     "output_type": "stream",
     "text": [
      "0.953286652794\n"
     ]
    }
   ],
   "source": [
    "classifier = ensemble.BaggingClassifier(base_estimator  = tree.DecisionTreeClassifier(max_features=\"sqrt\"), n_estimators = 100)\n",
    "cv_score = cross_val_score(classifier, X, y, cv  = 10).mean()\n",
    "print(cv_score)"
   ]
  },
  {
   "cell_type": "code",
   "execution_count": null,
   "metadata": {},
   "outputs": [],
   "source": [
    "classifier = ensemble.RandomForestClassifier(n_estimators=1000, max_features='log2', class_weight='balanced')\n",
    "cv_score = cross_val_score(classifier, X, y, cv  = 10).mean()\n",
    "print(cv_score)"
   ]
  },
  {
   "cell_type": "code",
   "execution_count": null,
   "metadata": {},
   "outputs": [],
   "source": []
  }
 ],
 "metadata": {
  "kernelspec": {
   "display_name": "Python 3",
   "language": "python",
   "name": "python3"
  },
  "language_info": {
   "codemirror_mode": {
    "name": "ipython",
    "version": 3
   },
   "file_extension": ".py",
   "mimetype": "text/x-python",
   "name": "python",
   "nbconvert_exporter": "python",
   "pygments_lexer": "ipython3",
   "version": "3.6.2"
  }
 },
 "nbformat": 4,
 "nbformat_minor": 1
}
